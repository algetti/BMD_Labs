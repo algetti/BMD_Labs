{
 "cells": [
  {
   "cell_type": "markdown",
   "metadata": {},
   "source": [
    "\n",
    "<h2>Практикум №6</h2>"
   ]
  },
  {
   "cell_type": "code",
   "execution_count": 1,
   "metadata": {},
   "outputs": [],
   "source": [
    "import scipy.stats as ss\n",
    "import numpy as np\n",
    "import pandas as pd\n",
    "import math\n",
    "import matplotlib.pyplot as plt\n",
    "import seaborn as sns"
   ]
  },
  {
   "cell_type": "code",
   "execution_count": 23,
   "metadata": {},
   "outputs": [
    {
     "data": {
      "text/html": [
       "<div>\n",
       "<style scoped>\n",
       "    .dataframe tbody tr th:only-of-type {\n",
       "        vertical-align: middle;\n",
       "    }\n",
       "\n",
       "    .dataframe tbody tr th {\n",
       "        vertical-align: top;\n",
       "    }\n",
       "\n",
       "    .dataframe thead th {\n",
       "        text-align: right;\n",
       "    }\n",
       "</style>\n",
       "<table border=\"1\" class=\"dataframe\">\n",
       "  <thead>\n",
       "    <tr style=\"text-align: right;\">\n",
       "      <th>Кількість людей</th>\n",
       "      <th>до 2010 року</th>\n",
       "      <th>після 2010 року</th>\n",
       "    </tr>\n",
       "    <tr>\n",
       "      <th>№ округу</th>\n",
       "      <th></th>\n",
       "      <th></th>\n",
       "    </tr>\n",
       "  </thead>\n",
       "  <tbody>\n",
       "    <tr>\n",
       "      <td>1</td>\n",
       "      <td>14709</td>\n",
       "      <td>15979</td>\n",
       "    </tr>\n",
       "    <tr>\n",
       "      <td>2</td>\n",
       "      <td>16647</td>\n",
       "      <td>17970</td>\n",
       "    </tr>\n",
       "    <tr>\n",
       "      <td>3</td>\n",
       "      <td>18765</td>\n",
       "      <td>22996</td>\n",
       "    </tr>\n",
       "    <tr>\n",
       "      <td>4</td>\n",
       "      <td>15476</td>\n",
       "      <td>17980</td>\n",
       "    </tr>\n",
       "    <tr>\n",
       "      <td>5</td>\n",
       "      <td>21874</td>\n",
       "      <td>23658</td>\n",
       "    </tr>\n",
       "    <tr>\n",
       "      <td>6</td>\n",
       "      <td>20534</td>\n",
       "      <td>19766</td>\n",
       "    </tr>\n",
       "    <tr>\n",
       "      <td>7</td>\n",
       "      <td>11768</td>\n",
       "      <td>18453</td>\n",
       "    </tr>\n",
       "    <tr>\n",
       "      <td>8</td>\n",
       "      <td>13769</td>\n",
       "      <td>21684</td>\n",
       "    </tr>\n",
       "    <tr>\n",
       "      <td>9</td>\n",
       "      <td>17340</td>\n",
       "      <td>15982</td>\n",
       "    </tr>\n",
       "    <tr>\n",
       "      <td>10</td>\n",
       "      <td>25009</td>\n",
       "      <td>20650</td>\n",
       "    </tr>\n",
       "  </tbody>\n",
       "</table>\n",
       "</div>"
      ],
      "text/plain": [
       "Кількість людей  до 2010 року  після 2010 року\n",
       "№ округу                                      \n",
       "1                       14709            15979\n",
       "2                       16647            17970\n",
       "3                       18765            22996\n",
       "4                       15476            17980\n",
       "5                       21874            23658\n",
       "6                       20534            19766\n",
       "7                       11768            18453\n",
       "8                       13769            21684\n",
       "9                       17340            15982\n",
       "10                      25009            20650"
      ]
     },
     "execution_count": 23,
     "metadata": {},
     "output_type": "execute_result"
    }
   ],
   "source": [
    "table1=[]\n",
    "table1 = [14709,16647,18765,15476,21874,20534,11768,13769,17340,25009]\n",
    "table2=[]\n",
    "table2 = [15979,17970,22996,17980,23658,19766,18453,21684,15982,20650]\n",
    "df = pd.DataFrame({\n",
    "    'до 2010 року': table1,\n",
    "    'після 2010 року': table2\n",
    "}, index=np.arange(1, len(table1)+1))\n",
    "df.columns.name = 'Кількість людей'\n",
    "df.index.name = '№ округу'\n",
    "df"
   ]
  },
  {
   "cell_type": "code",
   "execution_count": 24,
   "metadata": {},
   "outputs": [
    {
     "data": {
      "text/plain": [
       "[]"
      ]
     },
     "execution_count": 24,
     "metadata": {},
     "output_type": "execute_result"
    },
    {
     "data": {
      "image/png": "[encoded data removed]",
      "text/plain": [
       "<Figure size 432x288 with 1 Axes>"
      ]
     },
     "metadata": {
      "needs_background": "light"
     },
     "output_type": "display_data"
    }
   ],
   "source": [
    "sns.boxplot(data=df, orient='h').set()"
   ]
  },
  {
   "cell_type": "code",
   "execution_count": 25,
   "metadata": {},
   "outputs": [],
   "source": [
    "def mas(massiv,n):\n",
    "    sum1= 0\n",
    "    for i in range(n):\n",
    "        sum1+=((massiv[i])**2)\n",
    "    return sum1\n",
    "def Pearson(x, y):\n",
    "    n = len(x)\n",
    "    sum1=sum(x)\n",
    "    sum2=sum(y)\n",
    "    d=sum1*sum2\n",
    "    k=0\n",
    "    for i in range(n):\n",
    "        k+=x[i]*y[i]\n",
    "    sum3=mas(x,n)\n",
    "    sum4=(sum(x))**2\n",
    "    sum5=mas(y,n)\n",
    "    sum6=((sum(y))**2)\n",
    "    result=0\n",
    "    r = ((n * k)-d)/(math.sqrt((n*sum3-sum4)*(n*sum5-sum6)))\n",
    "    print('Отримане значення коефіцієнту кореляції Пірсона: r = ' + str(r))\n",
    "    df= len(x)-2\n",
    "    print('Значення ступеня свободи: df = ' + str(df))\n",
    "    table = pd.read_excel(\"Таблиця критичних значень кореляційного аналізу.xlsx\").iloc[df-1, 1 ]\n",
    "    print(\"Критичне значення коефіцієнту кореляції = \" + str(table))\n",
    "    if table<r:\n",
    "        result = \"Оскільки значення коефіцієнту кореляції Пірсона більше, ніж його критичне значення, то результат оцінки значимості зв'зку - significant\"\n",
    "    else:\n",
    "        result = \"Оскільки значення коефіцієнту кореляції Пірсона менше, ніж його критичне значення, то результат оцінки значимості зв'зку -  not significant\"\n",
    "    return result"
   ]
  },
  {
   "cell_type": "code",
   "execution_count": 26,
   "metadata": {},
   "outputs": [],
   "source": [
    "\n",
    "def Student(x, y):\n",
    "    n=len(x)\n",
    "    d=[]*n\n",
    "    for i in range(n):\n",
    "        d.append(x[i] - y[i])\n",
    "    M=sum(d)/n\n",
    "    L=0\n",
    "    for i in range(n):\n",
    "        L += ((M-d[i])**2)\n",
    "    sigma = math.sqrt((L)/(n-1))\n",
    "    t = M/(sigma/math.sqrt(n))\n",
    "    print('Отримане значення t-критерію Стьюдента: t = ' + str(t))\n",
    "    df = n - 1\n",
    "    print('Значення ступеня свободи: df = ' + str(df))\n",
    "    table = pd.read_excel(\"Таблица критических значений для парного критерия.xlsx\").iloc[df-1, 1 ]\n",
    "    print(\"Критичне значення коефіцієнту Стьюдента = \" + str(table))\n",
    "    if table<t:\n",
    "        result = \"Оскільки значення коефіцієнту Стьюдента більше, ніж його критичне значення, то результат оцінки значимості зв'зку - significant\"\n",
    "    else:\n",
    "        result = \"Оскільки значення коефіцієнту Стьюдента менше, ніж його критичне значення, то результат оцінки значимості зв'зку -  not significant\"\n",
    "    return result"
   ]
  },
  {
   "cell_type": "code",
   "execution_count": 27,
   "metadata": {},
   "outputs": [
    {
     "name": "stdout",
     "output_type": "stream",
     "text": [
      "Отримане значення коефіцієнту кореляції Пірсона: r = 0.4548817733498648\n",
      "Значення ступеня свободи: df = 8\n",
      "Критичне значення коефіцієнту кореляції = 0.6319\n"
     ]
    },
    {
     "data": {
      "text/plain": [
       "\"Оскільки значення коефіцієнту кореляції Пірсона менше, ніж його критичне значення, то результат оцінки значимості зв'зку -  not significant\""
      ]
     },
     "execution_count": 27,
     "metadata": {},
     "output_type": "execute_result"
    }
   ],
   "source": [
    "Pearson(table1, table2)"
   ]
  },
  {
   "cell_type": "code",
   "execution_count": 28,
   "metadata": {},
   "outputs": [
    {
     "name": "stdout",
     "output_type": "stream",
     "text": [
      "Отримане значення t-критерію Стьюдента: t = -1.6478884860106902\n",
      "Значення ступеня свободи: df = 9\n",
      "Критичне значення коефіцієнту Стьюдента = 2.262\n"
     ]
    },
    {
     "data": {
      "text/plain": [
       "\"Оскільки значення коефіцієнту Стьюдента менше, ніж його критичне значення, то результат оцінки значимості зв'зку -  not significant\""
      ]
     },
     "execution_count": 28,
     "metadata": {},
     "output_type": "execute_result"
    }
   ],
   "source": [
    "Student(table1,table2)"
   ]
  },
  {
   "cell_type": "markdown",
   "metadata": {},
   "source": [
    "<h2 align=center><i>Сформувати висновок про взаємозв'язок між групами та про їх розбіжність.</h2></i>\n",
    "<p><h3>Висновок:</p></h3> \n",
    "<h4><p>В результаті аналізу данних рівня глюкози у крові до та після прийому препарату виявлено:</p></h4>\n",
    "<h4><p>1) Відсутність статистичної залежності;</p></h4>\n",
    "\n",
    "<h4><p>2) Так як отримане значення критерію Стьюдента vtyit критичного, робимо висновок про наявність статистично незначущих відмінностей кількості людей до і після 2010 року. Приймається нульова гіпотеза про рівність середніх.</p></h4>"
   ]
  },
  {
   "cell_type": "code",
   "execution_count": null,
   "metadata": {},
   "outputs": [],
   "source": []
  }
 ],
 "metadata": {
  "kernelspec": {
   "display_name": "Python 3",
   "language": "python",
   "name": "python3"
  },
  "language_info": {
   "codemirror_mode": {
    "name": "ipython",
    "version": 3
   },
   "file_extension": ".py",
   "mimetype": "text/x-python",
   "name": "python",
   "nbconvert_exporter": "python",
   "pygments_lexer": "ipython3",
   "version": "3.7.4"
  }
 },
 "nbformat": 4,
 "nbformat_minor": 2
}
